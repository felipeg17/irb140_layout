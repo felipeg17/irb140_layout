{
 "cells": [
  {
   "cell_type": "code",
   "execution_count": 25,
   "metadata": {},
   "outputs": [],
   "source": [
    "import cv2\n",
    "import numpy as np\n",
    "from matplotlib import pyplot as plt"
   ]
  },
  {
   "cell_type": "code",
   "execution_count": 33,
   "metadata": {},
   "outputs": [
    {
     "data": {
      "text/plain": [
       "<function matplotlib.pyplot.show(*, block=None)>"
      ]
     },
     "execution_count": 33,
     "metadata": {},
     "output_type": "execute_result"
    }
   ],
   "source": [
    "%matplotlib qt\n",
    "im = cv2.imread('100_cm.jpg')\n",
    "plt.imshow(im[:,:,::-1])\n",
    "plt.show"
   ]
  },
  {
   "cell_type": "code",
   "execution_count": 22,
   "metadata": {},
   "outputs": [
    {
     "name": "stdout",
     "output_type": "stream",
     "text": [
      "\n"
     ]
    }
   ],
   "source": [
    "A = np.array([[507.441511, 0, 307.533215],[0, 509.477448, 270.604765],[0, 0, 1]])\n",
    "# A = np.array([[525, 0, 319.5],[0, 525, 239.5],[0, 0, 1]]) # Default calib\n",
    "m = np.array([431, 270, 1])\n",
    "print()"
   ]
  },
  {
   "cell_type": "code",
   "execution_count": 28,
   "metadata": {},
   "outputs": [
    {
     "name": "stdout",
     "output_type": "stream",
     "text": [
      "[1. 2. 3.]\n"
     ]
    }
   ],
   "source": [
    "T = np.concatenate((np.eye(3),np.zeros((3,1))),axis=1)\n",
    "M = np.array([1,2,3,1]).T\n",
    "print(T.dot(M))"
   ]
  },
  {
   "cell_type": "code",
   "execution_count": 39,
   "metadata": {},
   "outputs": [
    {
     "name": "stdout",
     "output_type": "stream",
     "text": [
      "0.19691111027975494 -0.010276003816211987\n"
     ]
    }
   ],
   "source": [
    "x = (m[0]-A[0,2])/A[0,0]\n",
    "y = (m[1]-A[1,2])/A[1,1]\n",
    "print(x,y)"
   ]
  },
  {
   "cell_type": "code",
   "execution_count": 23,
   "metadata": {},
   "outputs": [
    {
     "name": "stdout",
     "output_type": "stream",
     "text": [
      "-0.29468069079590925\n",
      "0.3950539730282334\n",
      "0.3448673319120713\n"
     ]
    }
   ],
   "source": [
    "x1 = 158\n",
    "x2 = 508\n",
    "print((x1-A[0,2])/A[0,0])\n",
    "print((x2-A[0,2])/A[0,0])\n",
    "print(((x2-A[0,2])/A[0,0]-(x1-A[0,2])/A[0,0])*0.5)"
   ]
  },
  {
   "cell_type": "code",
   "execution_count": 24,
   "metadata": {},
   "outputs": [
    {
     "name": "stdout",
     "output_type": "stream",
     "text": [
      "-0.42318804462567694\n",
      "0.1106923087987204\n",
      "0.26694017671219866\n"
     ]
    }
   ],
   "source": [
    "y1 = 55\n",
    "y2 = 327\n",
    "print((y1-A[1,2])/A[1,1])\n",
    "print((y2-A[1,2])/A[1,1])\n",
    "print(((y2-A[1,2])/A[1,1]-(y1-A[1,2])/A[1,1])*0.5)"
   ]
  }
 ],
 "metadata": {
  "interpreter": {
   "hash": "e7370f93d1d0cde622a1f8e1c04877d8463912d04d973331ad4851f04de6915a"
  },
  "kernelspec": {
   "display_name": "Python 3.8.10 64-bit",
   "language": "python",
   "name": "python3"
  },
  "language_info": {
   "codemirror_mode": {
    "name": "ipython",
    "version": 3
   },
   "file_extension": ".py",
   "mimetype": "text/x-python",
   "name": "python",
   "nbconvert_exporter": "python",
   "pygments_lexer": "ipython3",
   "version": "3.8.10"
  },
  "orig_nbformat": 4
 },
 "nbformat": 4,
 "nbformat_minor": 2
}
